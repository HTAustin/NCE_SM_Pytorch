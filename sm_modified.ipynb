{
 "cells": [
  {
   "cell_type": "code",
   "execution_count": 1,
   "metadata": {
    "collapsed": true
   },
   "outputs": [],
   "source": [
    "import time\n",
    "import os\n",
    "import numpy as np\n",
    "import random\n",
    "\n",
    "import torch\n",
    "import torch.nn as nn\n",
    "from torchtext import data\n",
    "\n",
    "from args import get_args\n",
    "from model import SmPlusPlus\n",
    "from trec_dataset import TrecDataset\n",
    "from wiki_dataset import WikiDataset\n",
    "from evaluate import evaluate"
   ]
  },
  {
   "cell_type": "code",
   "execution_count": 2,
   "metadata": {},
   "outputs": [
    {
     "ename": "TypeError",
     "evalue": "must be str, not Field",
     "output_type": "error",
     "traceback": [
      "\u001b[0;31m---------------------------------------------------------------------------\u001b[0m",
      "\u001b[0;31mTypeError\u001b[0m                                 Traceback (most recent call last)",
      "\u001b[0;32m<ipython-input-2-fd2b504ff063>\u001b[0m in \u001b[0;36m<module>\u001b[0;34m()\u001b[0m\n\u001b[1;32m     28\u001b[0m                       postprocessing=data.Pipeline(lambda x, train: [float(y) for y in x]))\n\u001b[1;32m     29\u001b[0m \u001b[0;34m\u001b[0m\u001b[0m\n\u001b[0;32m---> 30\u001b[0;31m \u001b[0mtrain\u001b[0m\u001b[0;34m,\u001b[0m \u001b[0mdev\u001b[0m\u001b[0;34m,\u001b[0m \u001b[0mtest\u001b[0m \u001b[0;34m=\u001b[0m \u001b[0mTrecDataset\u001b[0m\u001b[0;34m.\u001b[0m\u001b[0msplits\u001b[0m\u001b[0;34m(\u001b[0m\u001b[0mQID\u001b[0m\u001b[0;34m,\u001b[0m \u001b[0mQUESTION\u001b[0m\u001b[0;34m,\u001b[0m \u001b[0mAID\u001b[0m\u001b[0;34m,\u001b[0m \u001b[0mANSWER\u001b[0m\u001b[0;34m,\u001b[0m \u001b[0mEXTERNAL\u001b[0m\u001b[0;34m,\u001b[0m \u001b[0mLABEL\u001b[0m\u001b[0;34m)\u001b[0m\u001b[0;34m\u001b[0m\u001b[0m\n\u001b[0m\u001b[1;32m     31\u001b[0m \u001b[0;34m\u001b[0m\u001b[0m\n\u001b[1;32m     32\u001b[0m \u001b[0mQID\u001b[0m\u001b[0;34m.\u001b[0m\u001b[0mbuild_vocab\u001b[0m\u001b[0;34m(\u001b[0m\u001b[0mtrain\u001b[0m\u001b[0;34m,\u001b[0m \u001b[0mdev\u001b[0m\u001b[0;34m,\u001b[0m \u001b[0mtest\u001b[0m\u001b[0;34m)\u001b[0m\u001b[0;34m\u001b[0m\u001b[0m\n",
      "\u001b[0;32m~/Desktop/NCE_SM_Pytorch/trec_dataset.py\u001b[0m in \u001b[0;36msplits\u001b[0;34m(cls, question_id, question_field, answer_field, external_field, label_field, train, validation, test)\u001b[0m\n\u001b[1;32m     13\u001b[0m             \u001b[0mos\u001b[0m\u001b[0;34m.\u001b[0m\u001b[0mpath\u001b[0m\u001b[0;34m.\u001b[0m\u001b[0mjoin\u001b[0m\u001b[0;34m(\u001b[0m\u001b[0mpath\u001b[0m\u001b[0;34m,\u001b[0m \u001b[0mprefix_name\u001b[0m\u001b[0;34m)\u001b[0m\u001b[0;34m,\u001b[0m \u001b[0mtrain\u001b[0m\u001b[0;34m,\u001b[0m \u001b[0mvalidation\u001b[0m\u001b[0;34m,\u001b[0m \u001b[0mtest\u001b[0m\u001b[0;34m,\u001b[0m\u001b[0;34m\u001b[0m\u001b[0m\n\u001b[1;32m     14\u001b[0m             format='TSV', fields=[('qid', question_id), ('label', label_field), ('question', question_field),\n\u001b[0;32m---> 15\u001b[0;31m                                   ('answer', answer_field), ('ext_feat', external_field)]\n\u001b[0m\u001b[1;32m     16\u001b[0m         )\n",
      "\u001b[0;32m~/anaconda3/lib/python3.6/site-packages/torchtext/data/dataset.py\u001b[0m in \u001b[0;36msplits\u001b[0;34m(cls, path, train, validation, test, **kwargs)\u001b[0m\n\u001b[1;32m     54\u001b[0m                 \u001b[0mdataset\u001b[0m \u001b[0;32mclass\u001b[0m \u001b[0mbeing\u001b[0m \u001b[0mused\u001b[0m\u001b[0;34m.\u001b[0m\u001b[0;34m\u001b[0m\u001b[0m\n\u001b[1;32m     55\u001b[0m         \"\"\"\n\u001b[0;32m---> 56\u001b[0;31m         \u001b[0mtrain_data\u001b[0m \u001b[0;34m=\u001b[0m \u001b[0;32mNone\u001b[0m \u001b[0;32mif\u001b[0m \u001b[0mtrain\u001b[0m \u001b[0;32mis\u001b[0m \u001b[0;32mNone\u001b[0m \u001b[0;32melse\u001b[0m \u001b[0mcls\u001b[0m\u001b[0;34m(\u001b[0m\u001b[0mpath\u001b[0m \u001b[0;34m+\u001b[0m \u001b[0mtrain\u001b[0m\u001b[0;34m,\u001b[0m \u001b[0;34m**\u001b[0m\u001b[0mkwargs\u001b[0m\u001b[0;34m)\u001b[0m\u001b[0;34m\u001b[0m\u001b[0m\n\u001b[0m\u001b[1;32m     57\u001b[0m         val_data = None if validation is None else cls(path + validation,\n\u001b[1;32m     58\u001b[0m                                                        **kwargs)\n",
      "\u001b[0;31mTypeError\u001b[0m: must be str, not Field"
     ]
    }
   ],
   "source": [
    "# TEXT = data.Field(batch_first=True, tokenize=clean_str_sst)\n",
    "# LABEL = data.Field(sequential=False)\n",
    "def set_vectors(field, vector_path):\n",
    "    if os.path.isfile(vector_path):\n",
    "        stoi, vectors, dim = torch.load(vector_path)\n",
    "        field.vocab.vectors = torch.Tensor(len(field.vocab), dim)\n",
    "\n",
    "        for i, token in enumerate(field.vocab.itos):\n",
    "            wv_index = stoi.get(token, None)\n",
    "            if wv_index is not None:\n",
    "                field.vocab.vectors[i] = vectors[wv_index]\n",
    "            else:\n",
    "                # initialize <unk> with U(-0.25, 0.25) vectors\n",
    "                field.vocab.vectors[i] = torch.FloatTensor(dim).uniform_(-0.25, 0.25)\n",
    "    else:\n",
    "        print(\"Error: Need word embedding pt file\")\n",
    "        print(\"Error: Need word embedding pt file\")\n",
    "        exit(1)\n",
    "    return field\n",
    "\n",
    "QID = data.Field(sequential=False)\n",
    "AID = data.Field(sequential=False)\n",
    "QUESTION = data.Field(batch_first=True)\n",
    "ANSWER = data.Field(batch_first=True)\n",
    "LABEL = data.Field(sequential=False)\n",
    "EXTERNAL = data.Field(sequential=False, tensor_type=torch.FloatTensor, batch_first=True, use_vocab=False,\n",
    "                      preprocessing=data.Pipeline(lambda x: x.split()),\n",
    "                      postprocessing=data.Pipeline(lambda x, train: [float(y) for y in x]))\n",
    "\n",
    "train, dev, test = TrecDataset.splits(QID, QUESTION, AID, ANSWER, EXTERNAL, LABEL)\n",
    "\n",
    "QID.build_vocab(train, dev, test)\n",
    "AID.build_vocab(train, dev, test)\n",
    "QUESTION.build_vocab(train, dev, test)\n",
    "ANSWER.build_vocab(train, dev, test)\n",
    "LABEL.build_vocab(train, dev, test)\n",
    "vector_cache = \"data/word2vec.trecqa.pt\"\n",
    "QUESTION = set_vectors(QUESTION, vector_cache)\n",
    "ANSWER = set_vectors(ANSWER, vector_cache)"
   ]
  },
  {
   "cell_type": "code",
   "execution_count": 3,
   "metadata": {},
   "outputs": [
    {
     "ename": "NameError",
     "evalue": "name 'train' is not defined",
     "output_type": "error",
     "traceback": [
      "\u001b[0;31m---------------------------------------------------------------------------\u001b[0m",
      "\u001b[0;31mNameError\u001b[0m                                 Traceback (most recent call last)",
      "\u001b[0;32m<ipython-input-3-f22048690c6f>\u001b[0m in \u001b[0;36m<module>\u001b[0;34m()\u001b[0m\n\u001b[1;32m      1\u001b[0m \u001b[0;31m# print(type(train.splits()))\u001b[0m\u001b[0;34m\u001b[0m\u001b[0;34m\u001b[0m\u001b[0m\n\u001b[0;32m----> 2\u001b[0;31m \u001b[0mprint\u001b[0m\u001b[0;34m(\u001b[0m\u001b[0mdir\u001b[0m\u001b[0;34m(\u001b[0m\u001b[0mtrain\u001b[0m\u001b[0;34m.\u001b[0m\u001b[0mexamples\u001b[0m\u001b[0;34m[\u001b[0m\u001b[0;36m1\u001b[0m\u001b[0;34m]\u001b[0m\u001b[0;34m)\u001b[0m\u001b[0;34m)\u001b[0m\u001b[0;34m\u001b[0m\u001b[0m\n\u001b[0m\u001b[1;32m      3\u001b[0m \u001b[0mprint\u001b[0m\u001b[0;34m(\u001b[0m\u001b[0mtrain\u001b[0m\u001b[0;34m[\u001b[0m\u001b[0;36m1\u001b[0m\u001b[0;34m]\u001b[0m\u001b[0;34m.\u001b[0m\u001b[0mquestion\u001b[0m\u001b[0;34m)\u001b[0m\u001b[0;34m\u001b[0m\u001b[0m\n\u001b[1;32m      4\u001b[0m train_iter = data.Iterator(train, batch_size=1000, device=-1, train = True, repeat=False,\n\u001b[1;32m      5\u001b[0m                                    sort=False, shuffle=True)\n",
      "\u001b[0;31mNameError\u001b[0m: name 'train' is not defined"
     ]
    }
   ],
   "source": [
    "# print(type(train.splits()))\n",
    "print(dir(train.examples[1]))\n",
    "print(train[1].question)\n",
    "train_iter = data.Iterator(train, batch_size=1000, device=-1, train = True, repeat=False,\n",
    "                                   sort=False, shuffle=True)\n",
    "train_iter.init_epoch()\n",
    "for batch_idx, batch in enumerate(train_iter):\n",
    "    print(dir(batch))\n",
    "    print(dir(batch.dataset))\n",
    "    print(batch.fromvars)\n",
    "    break"
   ]
  },
  {
   "cell_type": "code",
   "execution_count": 4,
   "metadata": {},
   "outputs": [
    {
     "name": "stderr",
     "output_type": "stream",
     "text": [
      "/home/w85yang/anaconda3/lib/python3.6/site-packages/torch/serialization.py:294: SourceChangeWarning: source code of class 'model.SmPlusPlus' has changed. you can retrieve the original source code by accessing the object's source attribute or set `torch.nn.Module.dump_patches = True` and use the patch tool to revert the changes.\n",
      "  warnings.warn(msg, SourceChangeWarning)\n"
     ]
    }
   ],
   "source": [
    "resume_snapshot = \"saves/TREC/static_best_model.pt\"\n",
    "model = torch.load(resume_snapshot, map_location=lambda storage, location: storage)\n",
    "\n",
    "model.train();\n",
    "features = model(batch)"
   ]
  },
  {
   "cell_type": "code",
   "execution_count": 5,
   "metadata": {},
   "outputs": [
    {
     "data": {
      "text/plain": [
       "(1000, 204)"
      ]
     },
     "execution_count": 5,
     "metadata": {},
     "output_type": "execute_result"
    }
   ],
   "source": [
    "features.data.cpu().numpy().shape"
   ]
  },
  {
   "cell_type": "code",
   "execution_count": 7,
   "metadata": {},
   "outputs": [
    {
     "data": {
      "text/plain": [
       "Variable containing:\n",
       "-1.2799e-01 -3.0379e-02 -4.7480e-01  ...   1.2660e-01  6.1756e-02 -3.1299e-01\n",
       "-2.5744e-01 -2.1584e-02 -5.4953e-01  ...   1.9152e-01 -1.8904e-02 -4.0735e-01\n",
       "-1.5847e-01  1.1012e-01 -4.7973e-01  ...   1.6229e-01  2.5392e-01 -4.0335e-01\n",
       "                ...                   ⋱                   ...                \n",
       "-2.9572e-01 -1.9766e-02 -5.5622e-01  ...   2.1145e-01 -3.4282e-02 -4.2156e-01\n",
       "-2.1236e-01 -2.4452e-02 -5.3466e-01  ...   1.2155e-01 -3.6664e-02 -3.5795e-01\n",
       "-1.3215e-01 -2.3809e-02 -5.6484e-01  ...   1.6987e-01  2.4750e-02 -4.1851e-01\n",
       "[torch.FloatTensor of size 1000x204]"
      ]
     },
     "execution_count": 7,
     "metadata": {},
     "output_type": "execute_result"
    }
   ],
   "source": [
    "import torch.nn.functional as F\n",
    "F.tanh(model.combined_feature_vector(features))"
   ]
  },
  {
   "cell_type": "code",
   "execution_count": 8,
   "metadata": {},
   "outputs": [
    {
     "data": {
      "text/plain": [
       "Variable containing:\n",
       "-0.3792 -0.0000 -0.9834  ...   0.2067  0.0000 -0.0000\n",
       "-0.0000 -0.0571 -1.0969  ...   0.0000  0.0000 -0.0000\n",
       "-0.3504  0.0563 -0.0000  ...   0.0000  0.0191 -0.0000\n",
       "          ...             ⋱             ...          \n",
       "-0.3124 -0.0000 -0.9964  ...   0.2556  0.0101 -0.6769\n",
       "-0.0000 -0.0000 -1.0005  ...   0.3454  0.0000 -0.5915\n",
       "-0.0000  0.1076 -0.0000  ...   0.0000  0.3264 -0.6988\n",
       "[torch.FloatTensor of size 1000x204]"
      ]
     },
     "execution_count": 8,
     "metadata": {},
     "output_type": "execute_result"
    }
   ],
   "source": [
    "model.dropout(features)"
   ]
  },
  {
   "cell_type": "code",
   "execution_count": 13,
   "metadata": {},
   "outputs": [
    {
     "data": {
      "text/plain": [
       "torch.Size([1000, 204])"
      ]
     },
     "execution_count": 13,
     "metadata": {},
     "output_type": "execute_result"
    }
   ],
   "source": [
    "features.size()"
   ]
  },
  {
   "cell_type": "code",
   "execution_count": 14,
   "metadata": {},
   "outputs": [
    {
     "data": {
      "text/plain": [
       "Variable containing:\n",
       "-3.8244e+00  2.6957e+00 -7.2175e-02\n",
       "-3.9288e+00  2.2850e+00 -1.1860e-01\n",
       "-4.0627e+00  2.1671e+00  3.0250e-01\n",
       "                 ⋮                  \n",
       "-4.5525e+00  2.4905e+00 -8.6415e-02\n",
       "-3.8286e+00  1.7874e+00  5.5805e-01\n",
       "-4.4491e+00  2.3969e+00 -2.4469e-01\n",
       "[torch.FloatTensor of size 1000x3]"
      ]
     },
     "execution_count": 14,
     "metadata": {},
     "output_type": "execute_result"
    }
   ],
   "source": [
    "model.hidden(features)"
   ]
  },
  {
   "cell_type": "code",
   "execution_count": 24,
   "metadata": {
    "collapsed": true
   },
   "outputs": [],
   "source": [
    "# batch.aid.data.numpy()\n",
    "test = [features.data.cpu().numpy()[5],features.data.cpu().numpy()[7]]"
   ]
  },
  {
   "cell_type": "code",
   "execution_count": 25,
   "metadata": {},
   "outputs": [
    {
     "data": {
      "text/plain": [
       "(2, 204)"
      ]
     },
     "execution_count": 25,
     "metadata": {},
     "output_type": "execute_result"
    }
   ],
   "source": [
    "np.array(test).shape"
   ]
  },
  {
   "cell_type": "code",
   "execution_count": 21,
   "metadata": {},
   "outputs": [
    {
     "data": {
      "text/plain": [
       "Variable containing:\n",
       " 1\n",
       " 1\n",
       " 1\n",
       "⋮ \n",
       " 1\n",
       " 2\n",
       " 1\n",
       "[torch.LongTensor of size 1000]"
      ]
     },
     "execution_count": 21,
     "metadata": {},
     "output_type": "execute_result"
    }
   ],
   "source": [
    "batch.label"
   ]
  },
  {
   "cell_type": "code",
   "execution_count": 83,
   "metadata": {
    "collapsed": true
   },
   "outputs": [],
   "source": [
    "if batch.label[1].data.numpy()[0] == 3:\n",
    "    print(\"OK\")"
   ]
  },
  {
   "cell_type": "code",
   "execution_count": 79,
   "metadata": {},
   "outputs": [
    {
     "name": "stdout",
     "output_type": "stream",
     "text": [
      "['T', '__abs__', '__add__', '__and__', '__array__', '__array_finalize__', '__array_interface__', '__array_prepare__', '__array_priority__', '__array_struct__', '__array_ufunc__', '__array_wrap__', '__bool__', '__class__', '__complex__', '__contains__', '__copy__', '__deepcopy__', '__delattr__', '__delitem__', '__dir__', '__divmod__', '__doc__', '__eq__', '__float__', '__floordiv__', '__format__', '__ge__', '__getattribute__', '__getitem__', '__gt__', '__hash__', '__iadd__', '__iand__', '__ifloordiv__', '__ilshift__', '__imatmul__', '__imod__', '__imul__', '__index__', '__init__', '__init_subclass__', '__int__', '__invert__', '__ior__', '__ipow__', '__irshift__', '__isub__', '__iter__', '__itruediv__', '__ixor__', '__le__', '__len__', '__lshift__', '__lt__', '__matmul__', '__mod__', '__mul__', '__ne__', '__neg__', '__new__', '__or__', '__pos__', '__pow__', '__radd__', '__rand__', '__rdivmod__', '__reduce__', '__reduce_ex__', '__repr__', '__rfloordiv__', '__rlshift__', '__rmatmul__', '__rmod__', '__rmul__', '__ror__', '__rpow__', '__rrshift__', '__rshift__', '__rsub__', '__rtruediv__', '__rxor__', '__setattr__', '__setitem__', '__setstate__', '__sizeof__', '__str__', '__sub__', '__subclasshook__', '__truediv__', '__xor__', 'all', 'any', 'argmax', 'argmin', 'argpartition', 'argsort', 'astype', 'base', 'byteswap', 'choose', 'clip', 'compress', 'conj', 'conjugate', 'copy', 'ctypes', 'cumprod', 'cumsum', 'data', 'diagonal', 'dot', 'dtype', 'dump', 'dumps', 'fill', 'flags', 'flat', 'flatten', 'getfield', 'imag', 'item', 'itemset', 'itemsize', 'max', 'mean', 'min', 'nbytes', 'ndim', 'newbyteorder', 'nonzero', 'partition', 'prod', 'ptp', 'put', 'ravel', 'real', 'repeat', 'reshape', 'resize', 'round', 'searchsorted', 'setfield', 'setflags', 'shape', 'size', 'sort', 'squeeze', 'std', 'strides', 'sum', 'swapaxes', 'take', 'tobytes', 'tofile', 'tolist', 'tostring', 'trace', 'transpose', 'var', 'view']\n"
     ]
    }
   ],
   "source": [
    "print(dir(batch.label[1].data.numpy()))"
   ]
  },
  {
   "cell_type": "code",
   "execution_count": 81,
   "metadata": {},
   "outputs": [
    {
     "data": {
      "text/plain": [
       "2"
      ]
     },
     "execution_count": 81,
     "metadata": {},
     "output_type": "execute_result"
    }
   ],
   "source": [
    "batch.label[1].data.numpy()[0]"
   ]
  },
  {
   "cell_type": "code",
   "execution_count": 19,
   "metadata": {},
   "outputs": [
    {
     "data": {
      "text/plain": [
       "array([[-0.        ,  0.07533404, -0.        , ...,  0.33050776,\n",
       "        -0.03647172, -0.        ],\n",
       "       [-0.50200146, -0.        , -0.        , ...,  0.        ,\n",
       "        -0.12017281, -0.        ],\n",
       "       [-0.        , -0.00975599, -0.        , ...,  0.3870208 ,\n",
       "        -0.        , -0.        ],\n",
       "       ..., \n",
       "       [-0.18306208,  0.16188723, -0.        , ...,  0.16567066,\n",
       "         0.        , -0.        ],\n",
       "       [-0.        ,  0.        , -0.        , ...,  0.36261645,\n",
       "         0.        , -0.        ],\n",
       "       [-0.38052365, -0.09780853, -0.        , ...,  0.        ,\n",
       "        -0.        , -0.79321569]], dtype=float32)"
      ]
     },
     "execution_count": 19,
     "metadata": {},
     "output_type": "execute_result"
    }
   ],
   "source": [
    "features.data.cpu().numpy()"
   ]
  },
  {
   "cell_type": "code",
   "execution_count": 84,
   "metadata": {},
   "outputs": [
    {
     "data": {
      "text/plain": [
       "Variable containing:\n",
       " 2\n",
       " 2\n",
       " 2\n",
       "⋮ \n",
       " 1\n",
       " 1\n",
       " 1\n",
       "[torch.LongTensor of size 1000]"
      ]
     },
     "execution_count": 84,
     "metadata": {},
     "output_type": "execute_result"
    }
   ],
   "source": [
    "batch.label"
   ]
  },
  {
   "cell_type": "code",
   "execution_count": 99,
   "metadata": {},
   "outputs": [
    {
     "data": {
      "text/plain": [
       "array([ 4.12310563,  5.83095189])"
      ]
     },
     "execution_count": 99,
     "metadata": {},
     "output_type": "execute_result"
    }
   ],
   "source": [
    "import numpy as np\n",
    "target_feature = [1,2,3]\n",
    "features = [[-1,-1,1],[-2,2,-2]]\n",
    "np.sqrt(np.sum((np.array(features)-target_feature)**2,axis = 1))\n"
   ]
  },
  {
   "cell_type": "code",
   "execution_count": 20,
   "metadata": {},
   "outputs": [
    {
     "name": "stdout",
     "output_type": "stream",
     "text": [
      "['__class__', '__delattr__', '__dict__', '__dir__', '__doc__', '__eq__', '__format__', '__ge__', '__getattribute__', '__gt__', '__hash__', '__init__', '__init_subclass__', '__le__', '__lt__', '__module__', '__ne__', '__new__', '__reduce__', '__reduce_ex__', '__repr__', '__setattr__', '__sizeof__', '__str__', '__subclasshook__', '__weakref__', 'aid', 'answer', 'batch_size', 'dataset', 'ext_feat', 'fromvars', 'label', 'qid', 'question', 'train']\n"
     ]
    }
   ],
   "source": [
    "print(dir(batch))"
   ]
  },
  {
   "cell_type": "code",
   "execution_count": 110,
   "metadata": {},
   "outputs": [
    {
     "name": "stdout",
     "output_type": "stream",
     "text": [
      "<class 'SST1.SubjDataset'>\n"
     ]
    }
   ],
   "source": [
    "print(type(train))"
   ]
  },
  {
   "cell_type": "code",
   "execution_count": 111,
   "metadata": {},
   "outputs": [
    {
     "data": {
      "text/plain": [
       "{'label': <torchtext.data.field.Field at 0x7f322a56ada0>,\n",
       " 'text': <torchtext.data.field.Field at 0x7f322a56ad68>}"
      ]
     },
     "execution_count": 111,
     "metadata": {},
     "output_type": "execute_result"
    }
   ],
   "source": [
    "train.fields"
   ]
  },
  {
   "cell_type": "code",
   "execution_count": 113,
   "metadata": {},
   "outputs": [
    {
     "data": {
      "text/plain": [
       "1000"
      ]
     },
     "execution_count": 113,
     "metadata": {},
     "output_type": "execute_result"
    }
   ],
   "source": [
    "len(batch.label)"
   ]
  },
  {
   "cell_type": "code",
   "execution_count": 114,
   "metadata": {},
   "outputs": [
    {
     "data": {
      "text/plain": [
       "<torchtext.data.example.Example at 0x7f3222fbaac8>"
      ]
     },
     "execution_count": 114,
     "metadata": {},
     "output_type": "execute_result"
    }
   ],
   "source": [
    "batch.dataset.examples[1]"
   ]
  },
  {
   "cell_type": "code",
   "execution_count": 115,
   "metadata": {},
   "outputs": [
    {
     "data": {
      "text/plain": [
       "7999"
      ]
     },
     "execution_count": 115,
     "metadata": {},
     "output_type": "execute_result"
    }
   ],
   "source": [
    "len(batch.dataset.examples)"
   ]
  },
  {
   "cell_type": "code",
   "execution_count": 116,
   "metadata": {},
   "outputs": [
    {
     "name": "stdout",
     "output_type": "stream",
     "text": [
      "['__class__', '__delattr__', '__dict__', '__dir__', '__doc__', '__eq__', '__format__', '__ge__', '__getattribute__', '__gt__', '__hash__', '__init__', '__init_subclass__', '__le__', '__lt__', '__module__', '__ne__', '__new__', '__reduce__', '__reduce_ex__', '__repr__', '__setattr__', '__sizeof__', '__str__', '__subclasshook__', '__weakref__', 'batch_size', 'dataset', 'fromvars', 'label', 'text', 'train']\n"
     ]
    }
   ],
   "source": [
    "print(dir(batch))"
   ]
  },
  {
   "cell_type": "code",
   "execution_count": 117,
   "metadata": {},
   "outputs": [
    {
     "data": {
      "text/plain": [
       "1000"
      ]
     },
     "execution_count": 117,
     "metadata": {},
     "output_type": "execute_result"
    }
   ],
   "source": [
    "batch.batch_size"
   ]
  },
  {
   "cell_type": "code",
   "execution_count": 120,
   "metadata": {},
   "outputs": [
    {
     "data": {
      "text/plain": [
       "Variable containing:\n",
       "     2    808     21  ...       1      1      1\n",
       "     4      0      5  ...       1      1      1\n",
       "  9685      0     46  ...       1      1      1\n",
       "        ...            ⋱           ...         \n",
       "  4230   2062      9  ...       1      1      1\n",
       "    15      9     63  ...       1      1      1\n",
       "   332     82    908  ...       1      1      1\n",
       "[torch.LongTensor of size 1000x81]"
      ]
     },
     "execution_count": 120,
     "metadata": {},
     "output_type": "execute_result"
    }
   ],
   "source": [
    "batch.text"
   ]
  },
  {
   "cell_type": "code",
   "execution_count": 123,
   "metadata": {},
   "outputs": [
    {
     "data": {
      "text/plain": [
       "['emerging',\n",
       " 'from',\n",
       " 'the',\n",
       " 'human',\n",
       " 'psyche',\n",
       " 'and',\n",
       " 'showing',\n",
       " 'characteristics',\n",
       " 'of',\n",
       " 'abstract',\n",
       " 'expressionism',\n",
       " ',',\n",
       " 'minimalism',\n",
       " 'and',\n",
       " 'russian',\n",
       " 'constructivism',\n",
       " ',',\n",
       " 'graffiti',\n",
       " 'removal',\n",
       " 'has',\n",
       " 'secured',\n",
       " 'its',\n",
       " 'place',\n",
       " 'in',\n",
       " 'the',\n",
       " 'history',\n",
       " 'of',\n",
       " 'modern',\n",
       " 'art',\n",
       " 'while',\n",
       " 'being',\n",
       " 'created',\n",
       " 'by',\n",
       " 'artists',\n",
       " 'who',\n",
       " 'are',\n",
       " 'unconscious',\n",
       " 'of',\n",
       " 'their',\n",
       " 'artistic',\n",
       " 'achievements']"
      ]
     },
     "execution_count": 123,
     "metadata": {},
     "output_type": "execute_result"
    }
   ],
   "source": [
    "batch.dataset.examples[1].text"
   ]
  },
  {
   "cell_type": "code",
   "execution_count": 124,
   "metadata": {},
   "outputs": [
    {
     "data": {
      "text/plain": [
       "Variable containing:\n",
       "     2    808     21  ...       1      1      1\n",
       "     4      0      5  ...       1      1      1\n",
       "  9685      0     46  ...       1      1      1\n",
       "        ...            ⋱           ...         \n",
       "  4230   2062      9  ...       1      1      1\n",
       "    15      9     63  ...       1      1      1\n",
       "   332     82    908  ...       1      1      1\n",
       "[torch.LongTensor of size 1000x81]"
      ]
     },
     "execution_count": 124,
     "metadata": {},
     "output_type": "execute_result"
    }
   ],
   "source": [
    "batch.text"
   ]
  },
  {
   "cell_type": "code",
   "execution_count": 126,
   "metadata": {},
   "outputs": [
    {
     "name": "stdout",
     "output_type": "stream",
     "text": [
      "['__class__', '__delattr__', '__dict__', '__dir__', '__doc__', '__eq__', '__format__', '__ge__', '__getattribute__', '__gt__', '__hash__', '__init__', '__init_subclass__', '__le__', '__lt__', '__module__', '__ne__', '__new__', '__reduce__', '__reduce_ex__', '__repr__', '__setattr__', '__sizeof__', '__str__', '__subclasshook__', '__weakref__', 'batch_size', 'dataset', 'fromvars', 'label', 'text', 'train']\n"
     ]
    }
   ],
   "source": [
    "print(dir(batch))"
   ]
  },
  {
   "cell_type": "code",
   "execution_count": 131,
   "metadata": {},
   "outputs": [
    {
     "data": {
      "text/plain": [
       "torchtext.data.example.Example"
      ]
     },
     "execution_count": 131,
     "metadata": {},
     "output_type": "execute_result"
    }
   ],
   "source": [
    "type(batch.dataset.examples[1])"
   ]
  },
  {
   "cell_type": "code",
   "execution_count": 132,
   "metadata": {},
   "outputs": [
    {
     "data": {
      "text/plain": [
       "7999"
      ]
     },
     "execution_count": 132,
     "metadata": {},
     "output_type": "execute_result"
    }
   ],
   "source": [
    "len(batch.dataset.examples)"
   ]
  },
  {
   "cell_type": "code",
   "execution_count": 133,
   "metadata": {},
   "outputs": [
    {
     "data": {
      "text/plain": [
       "['__class__',\n",
       " '__delattr__',\n",
       " '__dict__',\n",
       " '__dir__',\n",
       " '__doc__',\n",
       " '__eq__',\n",
       " '__format__',\n",
       " '__ge__',\n",
       " '__getattribute__',\n",
       " '__gt__',\n",
       " '__hash__',\n",
       " '__init__',\n",
       " '__init_subclass__',\n",
       " '__le__',\n",
       " '__lt__',\n",
       " '__module__',\n",
       " '__ne__',\n",
       " '__new__',\n",
       " '__reduce__',\n",
       " '__reduce_ex__',\n",
       " '__repr__',\n",
       " '__setattr__',\n",
       " '__sizeof__',\n",
       " '__str__',\n",
       " '__subclasshook__',\n",
       " '__weakref__',\n",
       " 'batch_size',\n",
       " 'dataset',\n",
       " 'fromvars',\n",
       " 'label',\n",
       " 'text',\n",
       " 'train']"
      ]
     },
     "execution_count": 133,
     "metadata": {},
     "output_type": "execute_result"
    }
   ],
   "source": [
    "dir(batch)"
   ]
  },
  {
   "cell_type": "code",
   "execution_count": 135,
   "metadata": {},
   "outputs": [
    {
     "data": {
      "text/plain": [
       "<torchtext.data.example.Example at 0x7f32230d8f28>"
      ]
     },
     "execution_count": 135,
     "metadata": {},
     "output_type": "execute_result"
    }
   ],
   "source": [
    "batch.dataset[5]"
   ]
  },
  {
   "cell_type": "code",
   "execution_count": null,
   "metadata": {
    "collapsed": true
   },
   "outputs": [],
   "source": []
  },
  {
   "cell_type": "code",
   "execution_count": 139,
   "metadata": {},
   "outputs": [
    {
     "data": {
      "text/plain": [
       "array([   4,    0,    5, 2274,  699, 1016,    8, 6534,  612,    0,    5,\n",
       "         18, 3489, 8614,    1,    1,    1,    1,    1,    1,    1,    1,\n",
       "          1,    1,    1,    1,    1,    1,    1,    1,    1,    1,    1,\n",
       "          1,    1,    1,    1,    1,    1,    1,    1,    1,    1,    1,\n",
       "          1,    1,    1,    1,    1,    1,    1,    1,    1,    1,    1,\n",
       "          1,    1,    1,    1,    1,    1,    1,    1,    1,    1,    1,\n",
       "          1,    1,    1,    1,    1,    1,    1,    1,    1,    1,    1,\n",
       "          1,    1,    1,    1])"
      ]
     },
     "execution_count": 139,
     "metadata": {},
     "output_type": "execute_result"
    }
   ],
   "source": [
    "batch.text[1].data.numpy()"
   ]
  },
  {
   "cell_type": "code",
   "execution_count": 141,
   "metadata": {},
   "outputs": [
    {
     "data": {
      "text/plain": [
       "torch.autograd.variable.Variable"
      ]
     },
     "execution_count": 141,
     "metadata": {},
     "output_type": "execute_result"
    }
   ],
   "source": [
    "type(batch.label)"
   ]
  },
  {
   "cell_type": "code",
   "execution_count": 142,
   "metadata": {},
   "outputs": [
    {
     "data": {
      "text/plain": [
       "Variable containing:\n",
       " 2\n",
       " 2\n",
       " 2\n",
       "⋮ \n",
       " 1\n",
       " 1\n",
       " 1\n",
       "[torch.LongTensor of size 1000]"
      ]
     },
     "execution_count": 142,
     "metadata": {},
     "output_type": "execute_result"
    }
   ],
   "source": [
    "batch.label"
   ]
  },
  {
   "cell_type": "code",
   "execution_count": 143,
   "metadata": {},
   "outputs": [
    {
     "ename": "NameError",
     "evalue": "name 'optimizer' is not defined",
     "output_type": "error",
     "traceback": [
      "\u001b[0;31m---------------------------------------------------------------------------\u001b[0m",
      "\u001b[0;31mNameError\u001b[0m                                 Traceback (most recent call last)",
      "\u001b[0;32m<ipython-input-143-9713fcdc7cc4>\u001b[0m in \u001b[0;36m<module>\u001b[0;34m()\u001b[0m\n\u001b[0;32m----> 1\u001b[0;31m \u001b[0moptimizer\u001b[0m\u001b[0;34m\u001b[0m\u001b[0m\n\u001b[0m",
      "\u001b[0;31mNameError\u001b[0m: name 'optimizer' is not defined"
     ]
    }
   ],
   "source": [
    "optimizer"
   ]
  },
  {
   "cell_type": "code",
   "execution_count": 146,
   "metadata": {
    "collapsed": true
   },
   "outputs": [],
   "source": [
    "parameter = filter(lambda p: p.requires_grad, model.parameters())\n",
    "lr = 1.0\n",
    "weight_decay = 0\n",
    "optimizer = torch.optim.Adadelta(parameter, lr=lr, weight_decay=weight_decay)"
   ]
  },
  {
   "cell_type": "code",
   "execution_count": 147,
   "metadata": {},
   "outputs": [
    {
     "data": {
      "text/plain": [
       "<torch.optim.adadelta.Adadelta at 0x7f3218094588>"
      ]
     },
     "execution_count": 147,
     "metadata": {},
     "output_type": "execute_result"
    }
   ],
   "source": [
    "optimizer"
   ]
  },
  {
   "cell_type": "code",
   "execution_count": 148,
   "metadata": {},
   "outputs": [
    {
     "data": {
      "text/plain": [
       "Variable containing:\n",
       "     2    808     21  ...       1      1      1\n",
       "     4      0      5  ...       1      1      1\n",
       "  9685      0     46  ...       1      1      1\n",
       "        ...            ⋱           ...         \n",
       "  4230   2062      9  ...       1      1      1\n",
       "    15      9     63  ...       1      1      1\n",
       "   332     82    908  ...       1      1      1\n",
       "[torch.LongTensor of size 1000x81]"
      ]
     },
     "execution_count": 148,
     "metadata": {},
     "output_type": "execute_result"
    }
   ],
   "source": [
    "batch.text"
   ]
  },
  {
   "cell_type": "code",
   "execution_count": 151,
   "metadata": {},
   "outputs": [
    {
     "data": {
      "text/plain": [
       "array([[ 0.        ,  0.        ,  0.        , ...,  0.21150009,\n",
       "         0.        ,  0.19599402],\n",
       "       [ 0.        ,  0.        ,  0.        , ...,  0.22643675,\n",
       "         0.2998307 ,  0.15882176],\n",
       "       [ 0.51109791,  0.43724236,  0.        , ...,  0.        ,\n",
       "         0.38846686,  0.        ],\n",
       "       ..., \n",
       "       [ 0.28448257,  0.53172576,  0.        , ...,  0.        ,\n",
       "         0.        ,  0.18477558],\n",
       "       [ 0.3036153 ,  0.46967146,  0.        , ...,  0.23388135,\n",
       "         0.39685246,  0.        ],\n",
       "       [ 0.        ,  0.50386667,  0.        , ...,  0.29729113,\n",
       "         0.41291639,  0.        ]], dtype=float32)"
      ]
     },
     "execution_count": 151,
     "metadata": {},
     "output_type": "execute_result"
    }
   ],
   "source": [
    "features = model(batch)\n"
   ]
  },
  {
   "cell_type": "code",
   "execution_count": 153,
   "metadata": {},
   "outputs": [
    {
     "data": {
      "text/plain": [
       "(300,)"
      ]
     },
     "execution_count": 153,
     "metadata": {},
     "output_type": "execute_result"
    }
   ],
   "source": [
    "features.data.cpu().numpy()[2].shape"
   ]
  },
  {
   "cell_type": "code",
   "execution_count": 155,
   "metadata": {},
   "outputs": [
    {
     "data": {
      "text/plain": [
       "Variable containing:\n",
       "     2    808     21  ...       1      1      1\n",
       "     4      0      5  ...       1      1      1\n",
       "  9685      0     46  ...       1      1      1\n",
       "        ...            ⋱           ...         \n",
       "  4230   2062      9  ...       1      1      1\n",
       "    15      9     63  ...       1      1      1\n",
       "   332     82    908  ...       1      1      1\n",
       "[torch.LongTensor of size 1000x81]"
      ]
     },
     "execution_count": 155,
     "metadata": {},
     "output_type": "execute_result"
    }
   ],
   "source": [
    "batch.text"
   ]
  },
  {
   "cell_type": "code",
   "execution_count": 156,
   "metadata": {
    "collapsed": true
   },
   "outputs": [],
   "source": [
    "a = batch.text[2]\n",
    "b = batch.text[3]"
   ]
  },
  {
   "cell_type": "code",
   "execution_count": 158,
   "metadata": {},
   "outputs": [
    {
     "data": {
      "text/plain": [
       "Variable containing:\n",
       "\n",
       "Columns 0 to 12 \n",
       " 9685     0    46     4  1888  1176  1168     5  2051     0  6811   675    13\n",
       "    2  9789     0   205  4349    43     8    16   104   153     2    35     9\n",
       "\n",
       "Columns 13 to 25 \n",
       "  414   902     0  8597     1     1     1     1     1     1     1     1     1\n",
       "    1     1     1     1     1     1     1     1     1     1     1     1     1\n",
       "\n",
       "Columns 26 to 38 \n",
       "    1     1     1     1     1     1     1     1     1     1     1     1     1\n",
       "    1     1     1     1     1     1     1     1     1     1     1     1     1\n",
       "\n",
       "Columns 39 to 51 \n",
       "    1     1     1     1     1     1     1     1     1     1     1     1     1\n",
       "    1     1     1     1     1     1     1     1     1     1     1     1     1\n",
       "\n",
       "Columns 52 to 64 \n",
       "    1     1     1     1     1     1     1     1     1     1     1     1     1\n",
       "    1     1     1     1     1     1     1     1     1     1     1     1     1\n",
       "\n",
       "Columns 65 to 77 \n",
       "    1     1     1     1     1     1     1     1     1     1     1     1     1\n",
       "    1     1     1     1     1     1     1     1     1     1     1     1     1\n",
       "\n",
       "Columns 78 to 80 \n",
       "    1     1     1\n",
       "    1     1     1\n",
       "[torch.LongTensor of size 2x81]"
      ]
     },
     "execution_count": 158,
     "metadata": {},
     "output_type": "execute_result"
    }
   ],
   "source": [
    "torch.stack([a,b])"
   ]
  },
  {
   "cell_type": "code",
   "execution_count": 163,
   "metadata": {
    "collapsed": true
   },
   "outputs": [],
   "source": [
    "a = np.array([[1,2,3]])"
   ]
  },
  {
   "cell_type": "code",
   "execution_count": 165,
   "metadata": {},
   "outputs": [
    {
     "data": {
      "text/plain": [
       "array([[1, 2, 3],\n",
       "       [1, 2, 3],\n",
       "       [1, 2, 3],\n",
       "       ..., \n",
       "       [1, 2, 3],\n",
       "       [1, 2, 3],\n",
       "       [1, 2, 3]])"
      ]
     },
     "execution_count": 165,
     "metadata": {},
     "output_type": "execute_result"
    }
   ],
   "source": [
    "a.repeat(1000,axis = 0)"
   ]
  },
  {
   "cell_type": "code",
   "execution_count": 166,
   "metadata": {},
   "outputs": [
    {
     "data": {
      "text/plain": [
       "Variable containing:\n",
       "     2    808     21  ...       1      1      1\n",
       "     4      0      5  ...       1      1      1\n",
       "  9685      0     46  ...       1      1      1\n",
       "        ...            ⋱           ...         \n",
       "  4230   2062      9  ...       1      1      1\n",
       "    15      9     63  ...       1      1      1\n",
       "   332     82    908  ...       1      1      1\n",
       "[torch.LongTensor of size 1000x81]"
      ]
     },
     "execution_count": 166,
     "metadata": {},
     "output_type": "execute_result"
    }
   ],
   "source": [
    "batch.text"
   ]
  },
  {
   "cell_type": "code",
   "execution_count": 179,
   "metadata": {},
   "outputs": [
    {
     "data": {
      "text/plain": [
       "Variable containing:\n",
       " 1\n",
       "[torch.LongTensor of size 1]"
      ]
     },
     "execution_count": 179,
     "metadata": {},
     "output_type": "execute_result"
    }
   ],
   "source": [
    "batch.label[4]"
   ]
  },
  {
   "cell_type": "code",
   "execution_count": 181,
   "metadata": {},
   "outputs": [
    {
     "data": {
      "text/plain": [
       "torchtext.data.field.Field"
      ]
     },
     "execution_count": 181,
     "metadata": {},
     "output_type": "execute_result"
    }
   ],
   "source": [
    "type(TEXT)"
   ]
  },
  {
   "cell_type": "code",
   "execution_count": 33,
   "metadata": {
    "collapsed": true
   },
   "outputs": [],
   "source": [
    "\n",
    "index2label = np.array(LABEL.vocab.itos)\n",
    "index2qid = np.array(QID.vocab.itos)\n",
    "index2answer = np.array(ANSWER.vocab.itos)"
   ]
  },
  {
   "cell_type": "code",
   "execution_count": 34,
   "metadata": {},
   "outputs": [
    {
     "data": {
      "text/plain": [
       "array(['<unk>', '<pad>', 'the', ..., 'zvyagintsev', 'zx', 'ø'],\n",
       "      dtype='<U63')"
      ]
     },
     "execution_count": 34,
     "metadata": {},
     "output_type": "execute_result"
    }
   ],
   "source": [
    "index2answer"
   ]
  },
  {
   "cell_type": "code",
   "execution_count": 29,
   "metadata": {},
   "outputs": [
    {
     "data": {
      "text/plain": [
       "array(['<unk>', '63', '3', ..., '7.1', '9', '94'],\n",
       "      dtype='<U5')"
      ]
     },
     "execution_count": 29,
     "metadata": {},
     "output_type": "execute_result"
    }
   ],
   "source": [
    "index2qid"
   ]
  },
  {
   "cell_type": "code",
   "execution_count": 30,
   "metadata": {},
   "outputs": [
    {
     "data": {
      "text/plain": [
       "array(['<unk>', '0', '1'],\n",
       "      dtype='<U5')"
      ]
     },
     "execution_count": 30,
     "metadata": {},
     "output_type": "execute_result"
    }
   ],
   "source": [
    "index2label"
   ]
  },
  {
   "cell_type": "code",
   "execution_count": 31,
   "metadata": {
    "collapsed": true
   },
   "outputs": [],
   "source": [
    "index2question = np.array(QUESTION.vocab.itos)"
   ]
  },
  {
   "cell_type": "code",
   "execution_count": 41,
   "metadata": {},
   "outputs": [
    {
     "data": {
      "text/plain": [
       "'who discovered radium <pad> <pad> <pad> <pad> <pad> <pad> <pad> <pad> <pad> <pad> <pad> <pad> <pad> <pad> <pad> <pad> <pad> <pad> <pad> <pad> <pad> <pad> <pad> <pad> <pad> <pad>'"
      ]
     },
     "execution_count": 41,
     "metadata": {},
     "output_type": "execute_result"
    }
   ],
   "source": [
    "index2question\n",
    "sen = \" \".join([index2answer[x] for x in batch.answer[0].data.cpu().numpy()])\n",
    "\n",
    "\" \".join([index2question[x] for x in batch.question[0].data.cpu().numpy()])    "
   ]
  },
  {
   "cell_type": "code",
   "execution_count": 39,
   "metadata": {},
   "outputs": [
    {
     "data": {
      "text/plain": [
       "'a generation later , with the explosions over japan , frederic and irene joliot-curie felt betrayed by their american colleagues . <pad> <pad> <pad> <pad> <pad> <pad> <pad> <pad> <pad> <pad> <pad> <pad> <pad> <pad> <pad> <pad> <pad> <pad> <pad> <pad> <pad> <pad> <pad> <pad> <pad> <pad> <pad> <pad> <pad> <pad> <pad> <pad> <pad> <pad> <pad> <pad> <pad> <pad> <pad> <pad> <pad> <pad> <pad> <pad> <pad> <pad> <pad> <pad> <pad> <pad> <pad> <pad> <pad> <pad> <pad> <pad> <pad> <pad> <pad> <pad> <pad> <pad> <pad> <pad> <pad> <pad> <pad> <pad> <pad> <pad> <pad> <pad> <pad> <pad> <pad> <pad> <pad> <pad> <pad> <pad> <pad> <pad> <pad> <pad> <pad> <pad> <pad> <pad> <pad> <pad>'"
      ]
     },
     "execution_count": 39,
     "metadata": {},
     "output_type": "execute_result"
    }
   ],
   "source": [
    "sen"
   ]
  },
  {
   "cell_type": "code",
   "execution_count": 46,
   "metadata": {},
   "outputs": [
    {
     "data": {
      "text/plain": [
       "Variable containing:\n",
       "     9\n",
       "  1522\n",
       "   275\n",
       "     3\n",
       "    18\n",
       "     2\n",
       "  5866\n",
       "    89\n",
       "   210\n",
       "     3\n",
       " 13156\n",
       "     7\n",
       " 18836\n",
       " 22567\n",
       "  1972\n",
       " 15727\n",
       "    21\n",
       "    56\n",
       "   107\n",
       "  2958\n",
       "     4\n",
       "[torch.LongTensor of size 21]"
      ]
     },
     "execution_count": 46,
     "metadata": {},
     "output_type": "execute_result"
    }
   ],
   "source": [
    "batch.answer[0][batch.answer[0] != 1]"
   ]
  },
  {
   "cell_type": "code",
   "execution_count": 48,
   "metadata": {},
   "outputs": [
    {
     "data": {
      "text/plain": [
       "Variable containing:\n",
       "     9\n",
       "  1522\n",
       "   275\n",
       "     3\n",
       "    18\n",
       "     2\n",
       "  5866\n",
       "    89\n",
       "   210\n",
       "     3\n",
       " 13156\n",
       "     7\n",
       " 18836\n",
       " 22567\n",
       "  1972\n",
       " 15727\n",
       "    21\n",
       "    56\n",
       "   107\n",
       "  2958\n",
       "     4\n",
       "     1\n",
       "     1\n",
       "     1\n",
       "     1\n",
       "     1\n",
       "     1\n",
       "     1\n",
       "     1\n",
       "     1\n",
       "     1\n",
       "     1\n",
       "     1\n",
       "     1\n",
       "     1\n",
       "     1\n",
       "     1\n",
       "     1\n",
       "     1\n",
       "     1\n",
       "     1\n",
       "     1\n",
       "     1\n",
       "     1\n",
       "     1\n",
       "     1\n",
       "     1\n",
       "     1\n",
       "     1\n",
       "     1\n",
       "     1\n",
       "     1\n",
       "     1\n",
       "     1\n",
       "     1\n",
       "     1\n",
       "     1\n",
       "     1\n",
       "     1\n",
       "     1\n",
       "     1\n",
       "     1\n",
       "     1\n",
       "     1\n",
       "     1\n",
       "     1\n",
       "     1\n",
       "     1\n",
       "     1\n",
       "     1\n",
       "     1\n",
       "     1\n",
       "     1\n",
       "     1\n",
       "     1\n",
       "     1\n",
       "     1\n",
       "     1\n",
       "     1\n",
       "     1\n",
       "     1\n",
       "     1\n",
       "     1\n",
       "     1\n",
       "     1\n",
       "     1\n",
       "     1\n",
       "     1\n",
       "     1\n",
       "     1\n",
       "     1\n",
       "     1\n",
       "     1\n",
       "     1\n",
       "     1\n",
       "     1\n",
       "     1\n",
       "     1\n",
       "     1\n",
       "     1\n",
       "     1\n",
       "     1\n",
       "     1\n",
       "     1\n",
       "     1\n",
       "     1\n",
       "     1\n",
       "     1\n",
       "     1\n",
       "     1\n",
       "     1\n",
       "[torch.LongTensor of size 111]"
      ]
     },
     "execution_count": 48,
     "metadata": {},
     "output_type": "execute_result"
    }
   ],
   "source": [
    "batch.answer[0]"
   ]
  },
  {
   "cell_type": "code",
   "execution_count": null,
   "metadata": {
    "collapsed": true
   },
   "outputs": [],
   "source": []
  }
 ],
 "metadata": {
  "kernelspec": {
   "display_name": "Python 3",
   "language": "python",
   "name": "python3"
  },
  "language_info": {
   "codemirror_mode": {
    "name": "ipython",
    "version": 3
   },
   "file_extension": ".py",
   "mimetype": "text/x-python",
   "name": "python",
   "nbconvert_exporter": "python",
   "pygments_lexer": "ipython3",
   "version": "3.6.2"
  }
 },
 "nbformat": 4,
 "nbformat_minor": 2
}
